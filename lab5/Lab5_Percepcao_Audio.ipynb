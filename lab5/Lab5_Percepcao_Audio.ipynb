{
  "nbformat": 4,
  "nbformat_minor": 0,
  "metadata": {
    "colab": {
      "name": "Lab5_Percepcao_Audio.ipynb",
      "provenance": [],
      "toc_visible": true
    },
    "kernelspec": {
      "name": "python3",
      "display_name": "Python 3"
    }
  },
  "cells": [
    {
      "cell_type": "markdown",
      "metadata": {
        "id": "aFWRGMwUdBjy"
      },
      "source": [
        "# CSM QS2020 - Minami\n",
        "# LAB5 - Percepção Auditiva e Básico de Áudio"
      ]
    },
    {
      "cell_type": "code",
      "metadata": {
        "id": "Wbb4uCHac4lv"
      },
      "source": [
        "import numpy as np\n",
        "import math\n",
        "import matplotlib.pyplot as plt\n",
        "import IPython.display"
      ],
      "execution_count": 33,
      "outputs": []
    },
    {
      "cell_type": "markdown",
      "metadata": {
        "id": "ZWQ8Df1GtzqH"
      },
      "source": [
        "<h1> Mascaramento de Frequências"
      ]
    },
    {
      "cell_type": "code",
      "metadata": {
        "id": "hGOw6Jtws3b1"
      },
      "source": [
        "fs = 22050  # Frequência de amostragem\n",
        "f1 = 2000   # Frequência do sinal 1 em Hz\n",
        "f2 = 1200   # Frequência do sinal 2 em Hz\n",
        "tf1 = np.linspace(0, 0.2*fs, num=np.int16(0.2*fs))  # Intervalo de 200ms \n",
        "tf2 = np.linspace(0, 0.2*fs, num=np.int16(0.2*fs))\n",
        "h1 = np.sin(2*np.pi*f1*tf1/fs)  # Sinal Senoidal com f1 = 2kHz, 200ms\n",
        "h2 = np.sin(2*np.pi*f2*tf2/fs)  # Sinal Senoidal com f2 = 1.2kHz, 200ms\n"
      ],
      "execution_count": 132,
      "outputs": []
    },
    {
      "cell_type": "code",
      "metadata": {
        "id": "jv7MRB4lvxs2"
      },
      "source": [
        "plt.plot(tf1[1:200]/fs,h1[1:200]); plt.title('Trecho do Sinal 1')"
      ],
      "execution_count": null,
      "outputs": []
    },
    {
      "cell_type": "code",
      "metadata": {
        "id": "CYDZoKOJxxb4"
      },
      "source": [
        "plt.plot(tf2[1:200]/fs, h2[1:200]); plt.title('Sinal 2')"
      ],
      "execution_count": null,
      "outputs": []
    },
    {
      "cell_type": "code",
      "metadata": {
        "id": "xMYT_rxLv5Og"
      },
      "source": [
        "# Ouvindo Sinal 1\n",
        "IPython.display.Audio(data=h1, rate=fs)"
      ],
      "execution_count": null,
      "outputs": []
    },
    {
      "cell_type": "code",
      "metadata": {
        "id": "7OY6yuPEwA9m"
      },
      "source": [
        "# Ouvindo Sinal 2\n",
        "IPython.display.Audio(data=h2, rate=fs)"
      ],
      "execution_count": null,
      "outputs": []
    },
    {
      "cell_type": "code",
      "metadata": {
        "id": "36UBr2QWw_7R"
      },
      "source": [
        "# criando intervalo de silêncio entre os dois sinais\n",
        "sil = np.zeros((1,2205))  # 100 ms de silêncio"
      ],
      "execution_count": 138,
      "outputs": []
    },
    {
      "cell_type": "markdown",
      "metadata": {
        "id": "aB6DYeeU1sqp"
      },
      "source": [
        "<h2> Sinal com frequência f1 mascarando f2"
      ]
    },
    {
      "cell_type": "code",
      "metadata": {
        "id": "PQyKDSOQzMdU"
      },
      "source": [
        "import time\n",
        "# Gradiente, fator de 3dB\n",
        "fat3dB = math.pow(10,0.3)\n",
        "fat = 1\n",
        "Nloop = 8\n",
        "atenuacao = np.linspace(0,-24,num=Nloop+1)\n",
        "# Atenuando tom com f1 = 1.2kHz, que é o tom a ser mascarado\n",
        "# intervalo de 5s entre um teste e outro\n",
        "s1 = np.concatenate( (h1, sil), axis=None)\n",
        "s2 = np.concatenate( (h2, sil), axis=None)\n",
        "for i in range(0, Nloop+1):\n",
        "  fmask1 = np.concatenate( (s1, s2), axis=None)\n",
        "  print(\"{}) Atenuação de tom de {}Hz por {:.1f} dB\".format(i+1,f2,atenuacao[i]))\n",
        "  padrao = IPython.display.Audio(data=fmask1, rate=fs, autoplay=True)\n",
        "  IPython.display.display(padrao)\n",
        "  time.sleep(5)\n",
        "  fat = fat*fat3dB\n",
        "  s2 = s2/fat\n",
        "print(\"===> PODE TOCAR NO PADRÃO DESEJADO, PARA CONFERIR\")\n",
        "\n",
        "\n",
        " "
      ],
      "execution_count": null,
      "outputs": []
    },
    {
      "cell_type": "markdown",
      "metadata": {
        "id": "HT07N2222DAZ"
      },
      "source": [
        "<h2> Sinal com frequência f2 mascarando f1"
      ]
    },
    {
      "cell_type": "code",
      "metadata": {
        "id": "bkLhFiLzbwkU"
      },
      "source": [
        "# Invertendo f1 com f2\n",
        "# Atenuando tom de f2 = 2kHz, que é o tom a ser mascarado \n",
        "# Gradiente, fator de 3dB\n",
        "fat3dB = math.pow(10,0.3)\n",
        "fat = 1\n",
        "Nloop = 8\n",
        "atenuacao = np.linspace(0,-24,num=Nloop+1)\n",
        "s1 = np.concatenate( (h2, sil), axis=None)\n",
        "s2 = np.concatenate( (h1, sil), axis=None)\n",
        "for i in range(0, Nloop+1):\n",
        "  fmask1 = np.concatenate( (s1, s2), axis=None)\n",
        "  print(\"{}) Atenuação de tom de {}Hz por {:.1f} dB\".format(i+1,f1,atenuacao[i]))\n",
        "  padrao = IPython.display.Audio(data=fmask1, rate=fs, autoplay=True)\n",
        "  IPython.display.display(padrao)\n",
        "  time.sleep(5)\n",
        "  fat = fat*fat3dB\n",
        "  s2 = s2/fat\n",
        "print(\"===> PODE TOCAR NO PADRÃO DESEJADO, PARA CONFERIR\")"
      ],
      "execution_count": null,
      "outputs": []
    },
    {
      "cell_type": "markdown",
      "metadata": {
        "id": "F-jaWmAW1ldh"
      },
      "source": [
        "# FIM"
      ]
    }
  ]
}