{
  "nbformat": 4,
  "nbformat_minor": 0,
  "metadata": {
    "colab": {
      "name": "Lab8_Codificacao_Audio_mpeg_v1.ipynb",
      "provenance": [],
      "collapsed_sections": []
    },
    "kernelspec": {
      "display_name": "Python 3",
      "name": "python3"
    }
  },
  "cells": [
    {
      "cell_type": "markdown",
      "metadata": {
        "id": "8ywOCWSBh4BK"
      },
      "source": [
        "# Lab8 - Codificação de Áudio com ffmpeg"
      ]
    },
    {
      "cell_type": "markdown",
      "metadata": {
        "id": "Qp1dFJ3MBzfu"
      },
      "source": [
        "Objetivos:\n",
        "<ul>\n",
        "<li> Conhecer as opções de codificação do ffmpeg </li>\n",
        "<li> Verificar várias taxas mpeg 1, camada 3 e conversão entre codecs </li>\n",
        "<li> Variação de tempo </li>\n",
        "</ul>"
      ]
    },
    {
      "cell_type": "code",
      "metadata": {
        "id": "ojI73noUg1If"
      },
      "source": [
        "from google.colab import drive\n",
        "drive.mount('/content/drive')"
      ],
      "execution_count": null,
      "outputs": []
    },
    {
      "cell_type": "markdown",
      "metadata": {
        "id": "JuobeX2o7UeC"
      },
      "source": [
        "Arquivo .wav full"
      ]
    },
    {
      "cell_type": "code",
      "metadata": {
        "id": "xEeAOQQZ7Zz1"
      },
      "source": [
        "import numpy as np\n",
        "from scipy import signal\n",
        "import matplotlib.pyplot as plt\n",
        "import librosa\n",
        "import librosa.display\n",
        "import IPython.display\n",
        "import math"
      ],
      "execution_count": null,
      "outputs": []
    },
    {
      "cell_type": "code",
      "metadata": {
        "id": "T0Lc-2A-8CWg"
      },
      "source": [
        "abba320k = '/content/drive/MyDrive/Colab_Notebooks/ABBA_Fernando.wav'\n",
        "fer320 , sr320 = librosa.load(abba320k)\n",
        "print(type(fer320), type(sr320))\n",
        "print(fer320.shape, sr320)\n",
        "# Player será aberto! AGUARDE até abrir!\n",
        "IPython.display.Audio(data=fer320, rate=sr320)"
      ],
      "execution_count": null,
      "outputs": []
    },
    {
      "cell_type": "markdown",
      "metadata": {
        "id": "FWQQ6zY69xin"
      },
      "source": [
        "Espectrograma Original"
      ]
    },
    {
      "cell_type": "code",
      "metadata": {
        "id": "ennvLJYk90Gk"
      },
      "source": [
        "plt.figure(figsize=(20, 5))\n",
        "D = librosa.amplitude_to_db(np.abs(librosa.stft(fer320)), ref=np.max)\n",
        "librosa.display.specshow(D, x_axis='time',y_axis='linear')\n",
        "plt.colorbar(format='%+2.0f dB')\n",
        "plt.title('Linear-frequency power spectrogram'+ abba320k)"
      ],
      "execution_count": null,
      "outputs": []
    },
    {
      "cell_type": "markdown",
      "metadata": {
        "id": "su3mZ5OBE_z5"
      },
      "source": [
        "Verificar os codecs"
      ]
    },
    {
      "cell_type": "code",
      "metadata": {
        "id": "bLNBKM9MFC0I"
      },
      "source": [
        "#!ffmpeg -h"
      ],
      "execution_count": null,
      "outputs": []
    },
    {
      "cell_type": "code",
      "metadata": {
        "id": "4YEmtAfqFKI5"
      },
      "source": [
        "#!ffmpeg -codecs"
      ],
      "execution_count": null,
      "outputs": []
    },
    {
      "cell_type": "markdown",
      "metadata": {
        "id": "c0rb-YQDAFgV"
      },
      "source": [
        "Conversão wav em mp3, 128kbps"
      ]
    },
    {
      "cell_type": "code",
      "metadata": {
        "id": "aPgKVHBhAMfF"
      },
      "source": [
        "!ffmpeg -i /content/drive/MyDrive/Colab_Notebooks/ABBA_Fernando.wav -codec:a libmp3lame -b:a 128k abba128k.mp3"
      ],
      "execution_count": null,
      "outputs": []
    },
    {
      "cell_type": "markdown",
      "metadata": {
        "id": "oPPY0ZVjBy3I"
      },
      "source": [
        "Áudio do arquivo codificado"
      ]
    },
    {
      "cell_type": "code",
      "metadata": {
        "colab": {
          "background_save": true
        },
        "id": "hQr5e8CgB2vx"
      },
      "source": [
        "abba128k = './abba128k.mp3'\n",
        "print(abba128k)\n",
        "fer128 , sr128 = librosa.load(abba128k)\n",
        "print(type(fer128), type(sr128))\n",
        "print(fer128.shape, sr128)\n",
        "# Player será aberto! AGUARDE até abrir!\n",
        "IPython.display.Audio(data=fer128, rate=sr128)"
      ],
      "execution_count": null,
      "outputs": []
    },
    {
      "cell_type": "markdown",
      "metadata": {
        "id": "UdL2NZjfGGQR"
      },
      "source": [
        "Espectrograma do Arquivo codificado a 128kbps"
      ]
    },
    {
      "cell_type": "code",
      "metadata": {
        "id": "ZGHaBUNrGJm_"
      },
      "source": [
        "plt.figure(figsize=(20, 5))\n",
        "D = librosa.amplitude_to_db(np.abs(librosa.stft(fer128)), ref=np.max)\n",
        "librosa.display.specshow(D, x_axis='time',y_axis='linear')\n",
        "plt.colorbar(format='%+2.0f dB')\n",
        "plt.title('Linear-frequency power spectrogram'+ abba128k)"
      ],
      "execution_count": null,
      "outputs": []
    },
    {
      "cell_type": "markdown",
      "metadata": {
        "id": "CEzDQHQNb3tT"
      },
      "source": [
        "Codificando a 64kbps"
      ]
    },
    {
      "cell_type": "code",
      "metadata": {
        "id": "6-qfEAhIb8QD"
      },
      "source": [
        "!ffmpeg -i /content/drive/MyDrive/Colab_Notebooks/ABBA_Fernando.wav -codec:a libmp3lame -b:a 64k abba64k.mp3"
      ],
      "execution_count": null,
      "outputs": []
    },
    {
      "cell_type": "markdown",
      "metadata": {
        "id": "138p19WJdOQ4"
      },
      "source": [
        "Audio do arquivo"
      ]
    },
    {
      "cell_type": "code",
      "metadata": {
        "id": "SfbNNPNocZeh"
      },
      "source": [
        "abba64k = './abba64k.mp3'\n",
        "print(abba64k)\n",
        "fer64 , sr64 = librosa.load(abba64k)\n",
        "IPython.display.Audio(data=fer64, rate=sr64)"
      ],
      "execution_count": null,
      "outputs": []
    },
    {
      "cell_type": "markdown",
      "metadata": {
        "id": "Dqb7WrYrcVui"
      },
      "source": [
        "Espectrograma do arquivo a 64kbps"
      ]
    },
    {
      "cell_type": "code",
      "metadata": {
        "colab": {
          "background_save": true
        },
        "id": "m2OIhKzndRQR"
      },
      "source": [
        "plt.figure(figsize=(20, 5))\n",
        "D = librosa.amplitude_to_db(np.abs(librosa.stft(fer64)), ref=np.max)\n",
        "librosa.display.specshow(D, x_axis='time',y_axis='linear')\n",
        "plt.colorbar(format='%+2.0f dB')\n",
        "plt.title('Linear-frequency power spectrogram'+ abba64k)"
      ],
      "execution_count": null,
      "outputs": []
    },
    {
      "cell_type": "markdown",
      "metadata": {
        "id": "Qst6U-g9iIvi"
      },
      "source": [
        "Faça o procedimento para mais três taxas, 32k, 16k e 8kbps.\n"
      ]
    },
    {
      "cell_type": "markdown",
      "metadata": {
        "id": "hZ2p3kBU1wtZ"
      },
      "source": [
        ""
      ]
    },
    {
      "cell_type": "markdown",
      "metadata": {
        "id": "it9F52Ov1wjN"
      },
      "source": [
        ""
      ]
    },
    {
      "cell_type": "markdown",
      "metadata": {
        "id": "KIbwfHx61wXJ"
      },
      "source": [
        ""
      ]
    },
    {
      "cell_type": "markdown",
      "metadata": {
        "id": "nLz2TAEi56pu"
      },
      "source": [
        "Codificando a taxa variável nível 0"
      ]
    },
    {
      "cell_type": "code",
      "metadata": {
        "id": "aPgKVHBhAMfF"
      },
      "source": [
        "!ffmpeg -i /content/drive/My\\ Drive/Colab\\ Notebooks/Labs\\ Multimidia/Lab8/ABBA_Fernando.wav -codec:a libmp3lame -q:a 0 abba0.mp3"
      ],
      "execution_count": null,
      "outputs": []
    },
    {
      "cell_type": "markdown",
      "metadata": {
        "id": "oPPY0ZVjBy3I"
      },
      "source": [
        "Áudio do arquivo codificado a taxa variável nível 0"
      ]
    },
    {
      "cell_type": "code",
      "metadata": {
        "id": "hQr5e8CgB2vx"
      },
      "source": [
        "abba0 = './abba0.mp3'\n",
        "print(abba0)\n",
        "fer0 , sr0 = librosa.load(abba0)\n",
        "print(type(fer0), type(sr0))\n",
        "print(fer0.shape, sr0)\n",
        "# Player será aberto! AGUARDE até abrir!\n",
        "IPython.display.Audio(data=fer0, rate=sr0)"
      ],
      "execution_count": null,
      "outputs": []
    },
    {
      "cell_type": "markdown",
      "metadata": {
        "id": "UdL2NZjfGGQR"
      },
      "source": [
        "Espectrograma do Arquivo codificado a taxa variável nível 0"
      ]
    },
    {
      "cell_type": "code",
      "metadata": {
        "id": "ZGHaBUNrGJm_"
      },
      "source": [
        "plt.figure(figsize=(20, 5))\n",
        "D = librosa.amplitude_to_db(np.abs(librosa.stft(fer0)), ref=np.max)\n",
        "librosa.display.specshow(D, x_axis='time',y_axis='linear')\n",
        "plt.colorbar(format='%+2.0f dB')\n",
        "plt.title('Linear-frequency power spectrogram'+ abba0)"
      ],
      "execution_count": null,
      "outputs": []
    },
    {
      "cell_type": "markdown",
      "metadata": {
        "id": "4NX86DqU33_4"
      },
      "source": [
        ""
      ]
    },
    {
      "cell_type": "markdown",
      "metadata": {
        "id": "vRKD4uKmznzV"
      },
      "source": [
        "Codificando a taxa variável nível 2"
      ]
    },
    {
      "cell_type": "code",
      "metadata": {
        "id": "UEbOfSpF1Gz_"
      },
      "source": [
        "!ffmpeg -i /content/drive/My\\ Drive/Colab\\ Notebooks/Labs\\ Multimidia/Lab8/ABBA_Fernando.wav -codec:a libmp3lame -q:a 2 abba2.mp3"
      ],
      "execution_count": null,
      "outputs": []
    },
    {
      "cell_type": "markdown",
      "metadata": {
        "id": "9JjKJQFn3V-A"
      },
      "source": [
        "Áudio do arquivo codificado a taxa variável nível 2"
      ]
    },
    {
      "cell_type": "code",
      "metadata": {
        "id": "c3pdJ1B93ajI"
      },
      "source": [
        "abba2 = './abba2.mp3'\n",
        "print(abba2)\n",
        "fer2 , sr2 = librosa.load(abba2)\n",
        "print(type(fer2), type(sr2))\n",
        "print(fer2.shape, sr2)\n",
        "# Player será aberto! AGUARDE até abrir!\n",
        "IPython.display.Audio(data=fer2, rate=sr2)"
      ],
      "execution_count": null,
      "outputs": []
    },
    {
      "cell_type": "markdown",
      "metadata": {
        "id": "3KBFvyOf3nLu"
      },
      "source": [
        "Espectrograma do Arquivo codificado a taxa variável nível 2"
      ]
    },
    {
      "cell_type": "code",
      "metadata": {
        "id": "fShtvcNp3t4N"
      },
      "source": [
        "plt.figure(figsize=(20, 5))\n",
        "D = librosa.amplitude_to_db(np.abs(librosa.stft(fer2)), ref=np.max)\n",
        "librosa.display.specshow(D, x_axis='time',y_axis='linear')\n",
        "plt.colorbar(format='%+2.0f dB')\n",
        "plt.title('Linear-frequency power spectrogram'+ abba2)"
      ],
      "execution_count": null,
      "outputs": []
    },
    {
      "cell_type": "markdown",
      "metadata": {
        "id": "VeYOxzyW30M-"
      },
      "source": [
        ""
      ]
    },
    {
      "cell_type": "markdown",
      "metadata": {
        "id": "wVBj-1725_V1"
      },
      "source": [
        "Codificando a taxa variável nível 4"
      ]
    },
    {
      "cell_type": "code",
      "metadata": {
        "id": "xU0XVePZ6CNn"
      },
      "source": [
        "!ffmpeg -i /content/drive/My\\ Drive/Colab\\ Notebooks/Labs\\ Multimidia/Lab8/ABBA_Fernando.wav -codec:a libmp3lame -q:a 4 abba4.mp3"
      ],
      "execution_count": null,
      "outputs": []
    },
    {
      "cell_type": "markdown",
      "metadata": {
        "id": "z8ntZgk26Kp-"
      },
      "source": [
        "Áudio do arquivo codificado a taxa variável nível 4"
      ]
    },
    {
      "cell_type": "code",
      "metadata": {
        "id": "51YtveDn6L0-"
      },
      "source": [
        "abba4 = './abba4.mp3'\n",
        "print(abba4)\n",
        "fer4 , sr4 = librosa.load(abba4)\n",
        "print(type(fer4), type(sr4))\n",
        "print(fer4.shape, sr4)\n",
        "# Player será aberto! AGUARDE até abrir!\n",
        "IPython.display.Audio(data=fer4, rate=sr4)"
      ],
      "execution_count": null,
      "outputs": []
    },
    {
      "cell_type": "markdown",
      "metadata": {
        "id": "HxAJl2cx6Mbw"
      },
      "source": [
        "Espectrograma do Arquivo codificado a taxa variável nível 4"
      ]
    },
    {
      "cell_type": "code",
      "metadata": {
        "id": "Oks8WDFM6NJG"
      },
      "source": [
        "plt.figure(figsize=(20, 5))\n",
        "D = librosa.amplitude_to_db(np.abs(librosa.stft(fer4)), ref=np.max)\n",
        "librosa.display.specshow(D, x_axis='time',y_axis='linear')\n",
        "plt.colorbar(format='%+2.0f dB')\n",
        "plt.title('Linear-frequency power spectrogram'+ abba4)"
      ],
      "execution_count": null,
      "outputs": []
    },
    {
      "cell_type": "markdown",
      "metadata": {
        "id": "YnorDkmk5-83"
      },
      "source": [
        ""
      ]
    },
    {
      "cell_type": "markdown",
      "metadata": {
        "id": "ixANyItu6gBm"
      },
      "source": [
        "\n",
        "Codificando a taxa variável nível 6"
      ]
    },
    {
      "cell_type": "code",
      "metadata": {
        "id": "MQ5F3WFdvZsO"
      },
      "source": [
        "!ffmpeg -i /content/drive/My\\ Drive/Colab\\ Notebooks/Labs\\ Multimidia/Lab8/ABBA_Fernando.wav -codec:a libmp3lame -q:a 6 abba6.mp3"
      ],
      "execution_count": null,
      "outputs": []
    },
    {
      "cell_type": "markdown",
      "metadata": {
        "id": "g8VH53nUvamW"
      },
      "source": [
        "Áudio do arquivo codificado a taxa variável nível 6"
      ]
    },
    {
      "cell_type": "code",
      "metadata": {
        "id": "rk8lINYVvjTk"
      },
      "source": [
        "abba6 = './abba6.mp3'\n",
        "print(abba6)\n",
        "fer6 , sr6 = librosa.load(abba6)\n",
        "print(type(fer6), type(sr6))\n",
        "print(fer6.shape, sr6)\n",
        "# Player será aberto! AGUARDE até abrir!\n",
        "IPython.display.Audio(data=fer6, rate=sr6)"
      ],
      "execution_count": null,
      "outputs": []
    },
    {
      "cell_type": "markdown",
      "metadata": {
        "id": "UYg5R-AhvpWO"
      },
      "source": [
        "Espectrograma do Arquivo codificado a taxa variável nível 6"
      ]
    },
    {
      "cell_type": "code",
      "metadata": {
        "id": "Gc5DW-lhvqLA"
      },
      "source": [
        "plt.figure(figsize=(20, 5))\n",
        "D = librosa.amplitude_to_db(np.abs(librosa.stft(fer6)), ref=np.max)\n",
        "librosa.display.specshow(D, x_axis='time',y_axis='linear')\n",
        "plt.colorbar(format='%+2.0f dB')\n",
        "plt.title('Linear-frequency power spectrogram'+ abba6)"
      ],
      "execution_count": null,
      "outputs": []
    },
    {
      "cell_type": "markdown",
      "metadata": {
        "id": "xEXjzQLqvup0"
      },
      "source": [
        ""
      ]
    },
    {
      "cell_type": "markdown",
      "metadata": {
        "id": "nZx3J_2mvuNo"
      },
      "source": [
        "Codificando a taxa variável nível 8"
      ]
    },
    {
      "cell_type": "code",
      "metadata": {
        "id": "qFlwLExtxHDm"
      },
      "source": [
        "!ffmpeg -i /content/drive/My\\ Drive/Colab\\ Notebooks/Labs\\ Multimidia/Lab8/ABBA_Fernando.wav -codec:a libmp3lame -q:a 8 abba8.mp3"
      ],
      "execution_count": null,
      "outputs": []
    },
    {
      "cell_type": "markdown",
      "metadata": {
        "id": "ngyzEvzYxN5O"
      },
      "source": [
        "Áudio do arquivo codificado a taxa variável nível 8"
      ]
    },
    {
      "cell_type": "code",
      "metadata": {
        "id": "8xSqr5qsxSca"
      },
      "source": [
        "abba8 = './abba8.mp3'\n",
        "print(abba8)\n",
        "fer8 , sr8 = librosa.load(abba8)\n",
        "print(type(fer8), type(sr8))\n",
        "print(fer8.shape, sr8)\n",
        "# Player será aberto! AGUARDE até abrir!\n",
        "IPython.display.Audio(data=fer8, rate=sr8)"
      ],
      "execution_count": null,
      "outputs": []
    },
    {
      "cell_type": "markdown",
      "metadata": {
        "id": "wMW_Mfe8xeoS"
      },
      "source": [
        "Espectrograma do Arquivo codificado a taxa variável nível 8"
      ]
    },
    {
      "cell_type": "code",
      "metadata": {
        "id": "OoDbPBe2xfgl"
      },
      "source": [
        "plt.figure(figsize=(20, 5))\n",
        "D = librosa.amplitude_to_db(np.abs(librosa.stft(fer8)), ref=np.max)\n",
        "librosa.display.specshow(D, x_axis='time',y_axis='linear')\n",
        "plt.colorbar(format='%+2.0f dB')\n",
        "plt.title('Linear-frequency power spectrogram'+ abba8)"
      ],
      "execution_count": null,
      "outputs": []
    },
    {
      "cell_type": "markdown",
      "metadata": {
        "id": "qAzLijeO6grd"
      },
      "source": [
        ""
      ]
    },
    {
      "cell_type": "markdown",
      "metadata": {
        "id": "CCXbZxdbhEHA"
      },
      "source": [
        "Conversão de Codecs"
      ]
    },
    {
      "cell_type": "code",
      "metadata": {
        "id": "lGkEkZFnhGoq"
      },
      "source": [
        "!ffmpeg -i abba128k.mp3 -c:a libvorbis abba128k.ogg"
      ],
      "execution_count": null,
      "outputs": []
    },
    {
      "cell_type": "code",
      "metadata": {
        "id": "8DlrAseDhHLZ"
      },
      "source": [
        "#!ls -l"
      ],
      "execution_count": null,
      "outputs": []
    },
    {
      "cell_type": "markdown",
      "metadata": {
        "id": "Qst6U-g9iIvi"
      },
      "source": [
        "Faça o procedimento para mais três taxas, 32k, 16k e 8kbps.\n"
      ]
    },
    {
      "cell_type": "markdown",
      "metadata": {
        "id": "KK0sRtBOipFa"
      },
      "source": [
        "Alterando a velocidade"
      ]
    },
    {
      "cell_type": "code",
      "metadata": {
        "id": "7QQcL-Xaiux6"
      },
      "source": [
        "!ffmpeg -i abba128k.mp3 -filter:a \"atempo=2.0\" -vn abba128k_v2.mp3"
      ],
      "execution_count": null,
      "outputs": []
    },
    {
      "cell_type": "markdown",
      "metadata": {
        "id": "qX3jc7QQjWVN"
      },
      "source": [
        "Audio v2"
      ]
    },
    {
      "cell_type": "code",
      "metadata": {
        "id": "DFRHtB0jjX-P"
      },
      "source": [
        "abba128k_2 = './abba128k_v2.mp3'\n",
        "print(abba128k_2)\n",
        "fer128_2 , sr128_2 = librosa.load(abba128k_2)\n",
        "IPython.display.Audio(data=fer128_2, rate=sr128_2)"
      ],
      "execution_count": null,
      "outputs": []
    },
    {
      "cell_type": "markdown",
      "metadata": {
        "id": "qU_NfQ-cj8lP"
      },
      "source": [
        "Mude para um tempo mais lento"
      ]
    },
    {
      "cell_type": "markdown",
      "metadata": {
        "id": "ZA0_LLnViaRN"
      },
      "source": [
        "# Repita todos os passos para um arquivo de áudio original de preferência de um CD, mas ao invés da opção codificação com taxa fixa (-b:a), use -q:a N (com N um número de 0 a 9), de 320 a 65kbps."
      ]
    },
    {
      "cell_type": "code",
      "metadata": {
        "id": "jBwOOBkIkDdb"
      },
      "source": [
        ""
      ],
      "execution_count": null,
      "outputs": []
    },
    {
      "cell_type": "markdown",
      "metadata": {
        "id": "oBVbTJBxkEsQ"
      },
      "source": [
        "# Relatório\n",
        "** Compare os espectrogramas e as taxas de compressão nos arquivos gravados.\n",
        "** Apresente as formas de onda e os espectrogramas para os arquivos com tempo modificados"
      ]
    },
    {
      "cell_type": "code",
      "metadata": {
        "id": "EOBzJO1IkWvU"
      },
      "source": [
        ""
      ],
      "execution_count": null,
      "outputs": []
    }
  ]
}